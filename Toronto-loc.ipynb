{
 "cells": [
  {
   "cell_type": "markdown",
   "metadata": {},
   "source": [
    "Toronto City Neighborhood Data\n",
    "---\n",
    "----\n"
   ]
  },
  {
   "cell_type": "code",
   "execution_count": 2,
   "metadata": {},
   "outputs": [],
   "source": [
    "import pandas as pd\n",
    "from bs4 import BeautifulSoup\n",
    "import requests \n",
    "\n",
    "url = 'https://en.wikipedia.org/wiki/List_of_postal_codes_of_Canada:_M'\n",
    "source = requests.get(url).text\n",
    "data = BeautifulSoup(source, 'lxml')"
   ]
  },
  {
   "cell_type": "markdown",
   "metadata": {},
   "source": [
    "*importing modules \n",
    "define url and sourcing data in to \"data\" dataframe*"
   ]
  },
  {
   "cell_type": "code",
   "execution_count": 3,
   "metadata": {},
   "outputs": [],
   "source": [
    "column_names = ['Postalcode','Borough','Neighborhood']\n",
    "toronto = pd.DataFrame(columns = column_names)"
   ]
  },
  {
   "cell_type": "markdown",
   "metadata": {},
   "source": [
    "*columns named and data from columns into toronoto dataframe*"
   ]
  },
  {
   "cell_type": "code",
   "execution_count": 4,
   "metadata": {},
   "outputs": [],
   "source": [
    "content = data.find('div', class_='mw-parser-output')\n",
    "\n",
    "table = content.table.tbody\n",
    "postcode = 0\n",
    "borough = 0\n",
    "neighborhood = 0\n",
    "\n",
    "for tr in table.find_all('tr'):\n",
    "    i = 0\n",
    "    for td in tr.find_all('td'):\n",
    "        if i == 0:\n",
    "            postcode = td.text\n",
    "            i = i + 1\n",
    "        elif i == 1:\n",
    "            borough = td.text\n",
    "            i = i + 1\n",
    "        elif i == 2: \n",
    "            neighborhood = td.text.strip('\\n').replace(']','')\n",
    "    toronto = toronto.append({'Postalcode': postcode,'Borough': borough,'Neighborhood': neighborhood},ignore_index=True)"
   ]
  },
  {
   "cell_type": "markdown",
   "metadata": {},
   "source": [
    "*wrangled data from HTML table [td] & [tr] elements into dataframe columns named 'Postalcode' , 'Borough' , 'Neighborhood'*"
   ]
  },
  {
   "cell_type": "code",
   "execution_count": 5,
   "metadata": {
    "scrolled": true
   },
   "outputs": [
    {
     "data": {
      "text/html": [
       "<div>\n",
       "<style scoped>\n",
       "    .dataframe tbody tr th:only-of-type {\n",
       "        vertical-align: middle;\n",
       "    }\n",
       "\n",
       "    .dataframe tbody tr th {\n",
       "        vertical-align: top;\n",
       "    }\n",
       "\n",
       "    .dataframe thead th {\n",
       "        text-align: right;\n",
       "    }\n",
       "</style>\n",
       "<table border=\"1\" class=\"dataframe\">\n",
       "  <thead>\n",
       "    <tr style=\"text-align: right;\">\n",
       "      <th></th>\n",
       "      <th>Postalcode</th>\n",
       "      <th>Borough</th>\n",
       "      <th>Neighborhood</th>\n",
       "    </tr>\n",
       "  </thead>\n",
       "  <tbody>\n",
       "    <tr>\n",
       "      <th>0</th>\n",
       "      <td>M1B</td>\n",
       "      <td>Scarborough</td>\n",
       "      <td>Rouge, Malvern</td>\n",
       "    </tr>\n",
       "    <tr>\n",
       "      <th>1</th>\n",
       "      <td>M1C</td>\n",
       "      <td>Scarborough</td>\n",
       "      <td>Highland Creek, Rouge Hill, Port Union</td>\n",
       "    </tr>\n",
       "    <tr>\n",
       "      <th>2</th>\n",
       "      <td>M1E</td>\n",
       "      <td>Scarborough</td>\n",
       "      <td>Guildwood, Morningside, West Hill</td>\n",
       "    </tr>\n",
       "    <tr>\n",
       "      <th>3</th>\n",
       "      <td>M1G</td>\n",
       "      <td>Scarborough</td>\n",
       "      <td>Woburn</td>\n",
       "    </tr>\n",
       "    <tr>\n",
       "      <th>4</th>\n",
       "      <td>M1H</td>\n",
       "      <td>Scarborough</td>\n",
       "      <td>Cedarbrae</td>\n",
       "    </tr>\n",
       "  </tbody>\n",
       "</table>\n",
       "</div>"
      ],
      "text/plain": [
       "  Postalcode      Borough                            Neighborhood\n",
       "0        M1B  Scarborough                          Rouge, Malvern\n",
       "1        M1C  Scarborough  Highland Creek, Rouge Hill, Port Union\n",
       "2        M1E  Scarborough       Guildwood, Morningside, West Hill\n",
       "3        M1G  Scarborough                                  Woburn\n",
       "4        M1H  Scarborough                               Cedarbrae"
      ]
     },
     "execution_count": 5,
     "metadata": {},
     "output_type": "execute_result"
    }
   ],
   "source": [
    "toronto = toronto[toronto.Borough!='Not assigned']\n",
    "toronto = toronto[toronto.Borough!= 0]\n",
    "toronto.reset_index(drop = True, inplace = True)\n",
    "\n",
    "i = 0\n",
    "for i in range(0,toronto.shape[0]):\n",
    "    if toronto.iloc[i][2] == 'Not assigned':\n",
    "        toronto.iloc[i][2] = toronto.iloc[i][1]\n",
    "        i = i+1\n",
    "                                 \n",
    "df = toronto.groupby(['Postalcode','Borough'])['Neighborhood'].apply(', '.join).reset_index()\n",
    "df.head()"
   ]
  },
  {
   "cell_type": "markdown",
   "metadata": {},
   "source": [
    "*dropped 'Not assigned' Boroughs from table, converted 'Not Assigned' Locations with following location*"
   ]
  },
  {
   "cell_type": "code",
   "execution_count": 6,
   "metadata": {},
   "outputs": [],
   "source": [
    "df = df.dropna()\n",
    "empty = 'Not assigned'\n",
    "df = df[(df.Postalcode !=empty) & (df.Borough !=empty) & (df.Neighborhood !=empty)]"
   ]
  },
  {
   "cell_type": "markdown",
   "metadata": {},
   "source": [
    "*drop \"Not assigned\" from dataframe*"
   ]
  },
  {
   "cell_type": "code",
   "execution_count": 7,
   "metadata": {},
   "outputs": [
    {
     "data": {
      "text/html": [
       "<div>\n",
       "<style scoped>\n",
       "    .dataframe tbody tr th:only-of-type {\n",
       "        vertical-align: middle;\n",
       "    }\n",
       "\n",
       "    .dataframe tbody tr th {\n",
       "        vertical-align: top;\n",
       "    }\n",
       "\n",
       "    .dataframe thead th {\n",
       "        text-align: right;\n",
       "    }\n",
       "</style>\n",
       "<table border=\"1\" class=\"dataframe\">\n",
       "  <thead>\n",
       "    <tr style=\"text-align: right;\">\n",
       "      <th></th>\n",
       "      <th>Postalcode</th>\n",
       "      <th>Borough</th>\n",
       "      <th>Neighborhood</th>\n",
       "    </tr>\n",
       "  </thead>\n",
       "  <tbody>\n",
       "    <tr>\n",
       "      <th>0</th>\n",
       "      <td>M1B</td>\n",
       "      <td>Scarborough</td>\n",
       "      <td>Rouge, Malvern</td>\n",
       "    </tr>\n",
       "    <tr>\n",
       "      <th>1</th>\n",
       "      <td>M1C</td>\n",
       "      <td>Scarborough</td>\n",
       "      <td>Highland Creek, Rouge Hill, Port Union</td>\n",
       "    </tr>\n",
       "    <tr>\n",
       "      <th>2</th>\n",
       "      <td>M1E</td>\n",
       "      <td>Scarborough</td>\n",
       "      <td>Guildwood, Morningside, West Hill</td>\n",
       "    </tr>\n",
       "    <tr>\n",
       "      <th>3</th>\n",
       "      <td>M1G</td>\n",
       "      <td>Scarborough</td>\n",
       "      <td>Woburn</td>\n",
       "    </tr>\n",
       "    <tr>\n",
       "      <th>4</th>\n",
       "      <td>M1H</td>\n",
       "      <td>Scarborough</td>\n",
       "      <td>Cedarbrae</td>\n",
       "    </tr>\n",
       "  </tbody>\n",
       "</table>\n",
       "</div>"
      ],
      "text/plain": [
       "  Postalcode      Borough                            Neighborhood\n",
       "0        M1B  Scarborough                          Rouge, Malvern\n",
       "1        M1C  Scarborough  Highland Creek, Rouge Hill, Port Union\n",
       "2        M1E  Scarborough       Guildwood, Morningside, West Hill\n",
       "3        M1G  Scarborough                                  Woburn\n",
       "4        M1H  Scarborough                               Cedarbrae"
      ]
     },
     "execution_count": 7,
     "metadata": {},
     "output_type": "execute_result"
    }
   ],
   "source": [
    "df.head()"
   ]
  },
  {
   "cell_type": "code",
   "execution_count": 8,
   "metadata": {
    "scrolled": true
   },
   "outputs": [
    {
     "name": "stdout",
     "output_type": "stream",
     "text": [
      "(103, 3)\n"
     ]
    },
    {
     "data": {
      "text/html": [
       "<div>\n",
       "<style scoped>\n",
       "    .dataframe tbody tr th:only-of-type {\n",
       "        vertical-align: middle;\n",
       "    }\n",
       "\n",
       "    .dataframe tbody tr th {\n",
       "        vertical-align: top;\n",
       "    }\n",
       "\n",
       "    .dataframe thead th {\n",
       "        text-align: right;\n",
       "    }\n",
       "</style>\n",
       "<table border=\"1\" class=\"dataframe\">\n",
       "  <thead>\n",
       "    <tr style=\"text-align: right;\">\n",
       "      <th></th>\n",
       "      <th>Postalcode</th>\n",
       "      <th>Borough</th>\n",
       "      <th>Neighborhood</th>\n",
       "    </tr>\n",
       "  </thead>\n",
       "  <tbody>\n",
       "    <tr>\n",
       "      <th>0</th>\n",
       "      <td>M1B</td>\n",
       "      <td>Scarborough</td>\n",
       "      <td>Rouge, Malvern</td>\n",
       "    </tr>\n",
       "    <tr>\n",
       "      <th>1</th>\n",
       "      <td>M1C</td>\n",
       "      <td>Scarborough</td>\n",
       "      <td>Highland Creek, Rouge Hill, Port Union</td>\n",
       "    </tr>\n",
       "    <tr>\n",
       "      <th>2</th>\n",
       "      <td>M1E</td>\n",
       "      <td>Scarborough</td>\n",
       "      <td>Guildwood, Morningside, West Hill</td>\n",
       "    </tr>\n",
       "    <tr>\n",
       "      <th>3</th>\n",
       "      <td>M1G</td>\n",
       "      <td>Scarborough</td>\n",
       "      <td>Woburn</td>\n",
       "    </tr>\n",
       "    <tr>\n",
       "      <th>4</th>\n",
       "      <td>M1H</td>\n",
       "      <td>Scarborough</td>\n",
       "      <td>Cedarbrae</td>\n",
       "    </tr>\n",
       "  </tbody>\n",
       "</table>\n",
       "</div>"
      ],
      "text/plain": [
       "  Postalcode      Borough                            Neighborhood\n",
       "0        M1B  Scarborough                          Rouge, Malvern\n",
       "1        M1C  Scarborough  Highland Creek, Rouge Hill, Port Union\n",
       "2        M1E  Scarborough       Guildwood, Morningside, West Hill\n",
       "3        M1G  Scarborough                                  Woburn\n",
       "4        M1H  Scarborough                               Cedarbrae"
      ]
     },
     "execution_count": 8,
     "metadata": {},
     "output_type": "execute_result"
    }
   ],
   "source": [
    "def neighborhood_list(grouped):    \n",
    "    return ', '.join(sorted(grouped['Neighborhood'].tolist()))\n",
    "                    \n",
    "grp = df.groupby(['Postalcode', 'Borough'])\n",
    "df2 = grp.apply(neighborhood_list).reset_index(name='Neighborhood')\n",
    "\n",
    "print(df2.shape)\n",
    "df2.head()"
   ]
  },
  {
   "cell_type": "markdown",
   "metadata": {},
   "source": [
    "*Returned dimensions and header of dataframe*"
   ]
  },
  {
   "cell_type": "code",
   "execution_count": 30,
   "metadata": {},
   "outputs": [
    {
     "name": "stdout",
     "output_type": "stream",
     "text": [
      "--2020-02-18 13:41:39--  https://cocl.us/Geospatial_data/Geospatial_Coordinates.csv\n",
      "Resolving cocl.us (cocl.us)... 169.48.113.194, 158.85.108.86, 158.85.108.83\n",
      "Connecting to cocl.us (cocl.us)|169.48.113.194|:443... connected.\n",
      "HTTP request sent, awaiting response... 301 Moved Permanently\n",
      "Location: https://ibm.box.com/shared/static/9afzr83pps4pwf2smjjcf1y5mvgb18rr.csv [following]\n",
      "--2020-02-18 13:41:39--  https://ibm.box.com/shared/static/9afzr83pps4pwf2smjjcf1y5mvgb18rr.csv\n",
      "Resolving ibm.box.com (ibm.box.com)... 107.152.27.197, 107.152.26.197\n",
      "Connecting to ibm.box.com (ibm.box.com)|107.152.27.197|:443... connected.\n",
      "HTTP request sent, awaiting response... 301 Moved Permanently\n",
      "Location: /public/static/9afzr83pps4pwf2smjjcf1y5mvgb18rr.csv [following]\n",
      "--2020-02-18 13:41:40--  https://ibm.box.com/public/static/9afzr83pps4pwf2smjjcf1y5mvgb18rr.csv\n",
      "Reusing existing connection to ibm.box.com:443.\n",
      "HTTP request sent, awaiting response... 301 Moved Permanently\n",
      "Location: https://ibm.ent.box.com/public/static/9afzr83pps4pwf2smjjcf1y5mvgb18rr.csv [following]\n",
      "--2020-02-18 13:41:40--  https://ibm.ent.box.com/public/static/9afzr83pps4pwf2smjjcf1y5mvgb18rr.csv\n",
      "Resolving ibm.ent.box.com (ibm.ent.box.com)... 107.152.26.211, 107.152.27.211\n",
      "Connecting to ibm.ent.box.com (ibm.ent.box.com)|107.152.26.211|:443... connected.\n",
      "HTTP request sent, awaiting response... 302 Found\n",
      "Location: https://public.boxcloud.com/d/1/b1!-P09W28Xq8B2xdBK0cUcXRviadlDChO-DMponyYzpC3hMfkXLWo6wUbrutNT9tBAD8EsSRzhDGJdMMp6BMW8NDnfabW_eWZq5Uf3W2Cag-w2JNoPctrF0WDb0cq4qgpsmb28vxQiRYU4_fX2unbZgtB2hseotXGxTO11Xy8s1dZpBy6EVQFna5cqObLoN7861TKNx2j7ty8BaaivMogiYlRSZ7PxK_JVZFHtvEU9fiasclA07EeDPCoUAU1nyF-TCBkjwZk3AvX--ib9n831_nx8egyVZMGw3gjRoh2TjnztKEWRzVhlJuqMJMeauKimdU3z_Wb3JcIJuDnDUXVyMVvhcaUZFQ1kgS97XRG5VWsmHhahQWBvkrO2y023HDUgaqD0FwwLRdI1lpm3IxqKexwzJ2XAgV-4CUx_uXxXu58aaBx0HtpliS_oC-QaORNmwCNv3Hqfk9JRGbuGWA1V8sPLLprpDcuem8heGnne-_LAtapsUS7q9BbsRahPlirj5F8ko7paX7icpIo8Vn-oDMt09DNdu9dWI6VXttETknIrk_ubRRUrPYxDnnDffUuOqvG2j7HDDPN9jChRzEyxCQLGlpM8NoOc8J0kSiOmWIMPRy7KoFaZxS-KUgYQwWfafRqYjbNzpc5Pya80s4f1YACB-SYUVN7C2KllJOexBMm7GfzY5TFXTFfNIo4wD7M7clvSfZ_56GU1L1LSawvrhcEpazuLYV5NJC_iH9qq6Ecg0K8NnYnML_GbboY2KOy0FIItUJqTC6S32sOM8tk8RoQuZjx2ORS4nwr0M0hxhJbyBAe9IHfzQjpuDA6oT5mvdwacj05B2v-FBNJ653oEgZYVOHM7DErzeJnXfH3PbBKPuaecfPcA7XkE0OCb-6G417avKI0qBNgEXlcp8F6uACammDKgLSLGmNqanfoCwYJ19d6Ihu66GiIE1c1ZEe-QkZj8K0IC7vrpLjH1fepOKHvBsbX9RcTlDYjMMPB44t6VbmNvscY_UJEMUo1jWpAszj5REZ-TfHzF-OVa3SC6U66QY_nrRYGQXG0RVl-yHD9jkQGYqO8Gk0CQ5uZpANwP2B8uw8sOJe5B1HutVemLiCXH16QKI7eXYqgbSdYPDc0_jSFkmZjKRHSWipHjf1RhfuXqYL4hDJdOk9SH1DrRXK5-BS4OSqQfeQCBu9ebTFycoMkm7eyTU6ZoV5YLmJiUxlvyf69DPvMot2sWyN6nWngJeI8UAVrs_VWSmblCIQLGMg5qOSc2esmq-f2Vvv_41mrWgsu0aQkl9F9yHH88LtWaDwnMIfEPYn4MRSghhXM1ybWE0EFQLvBZNM0Y7aSMiEVmdDzNgBDDvPJN7TnwjKiVr9swGVJwqUIQ-Raew_TrDMJnQrBBKN26dPGl/download [following]\n",
      "--2020-02-18 13:41:41--  https://public.boxcloud.com/d/1/b1!-P09W28Xq8B2xdBK0cUcXRviadlDChO-DMponyYzpC3hMfkXLWo6wUbrutNT9tBAD8EsSRzhDGJdMMp6BMW8NDnfabW_eWZq5Uf3W2Cag-w2JNoPctrF0WDb0cq4qgpsmb28vxQiRYU4_fX2unbZgtB2hseotXGxTO11Xy8s1dZpBy6EVQFna5cqObLoN7861TKNx2j7ty8BaaivMogiYlRSZ7PxK_JVZFHtvEU9fiasclA07EeDPCoUAU1nyF-TCBkjwZk3AvX--ib9n831_nx8egyVZMGw3gjRoh2TjnztKEWRzVhlJuqMJMeauKimdU3z_Wb3JcIJuDnDUXVyMVvhcaUZFQ1kgS97XRG5VWsmHhahQWBvkrO2y023HDUgaqD0FwwLRdI1lpm3IxqKexwzJ2XAgV-4CUx_uXxXu58aaBx0HtpliS_oC-QaORNmwCNv3Hqfk9JRGbuGWA1V8sPLLprpDcuem8heGnne-_LAtapsUS7q9BbsRahPlirj5F8ko7paX7icpIo8Vn-oDMt09DNdu9dWI6VXttETknIrk_ubRRUrPYxDnnDffUuOqvG2j7HDDPN9jChRzEyxCQLGlpM8NoOc8J0kSiOmWIMPRy7KoFaZxS-KUgYQwWfafRqYjbNzpc5Pya80s4f1YACB-SYUVN7C2KllJOexBMm7GfzY5TFXTFfNIo4wD7M7clvSfZ_56GU1L1LSawvrhcEpazuLYV5NJC_iH9qq6Ecg0K8NnYnML_GbboY2KOy0FIItUJqTC6S32sOM8tk8RoQuZjx2ORS4nwr0M0hxhJbyBAe9IHfzQjpuDA6oT5mvdwacj05B2v-FBNJ653oEgZYVOHM7DErzeJnXfH3PbBKPuaecfPcA7XkE0OCb-6G417avKI0qBNgEXlcp8F6uACammDKgLSLGmNqanfoCwYJ19d6Ihu66GiIE1c1ZEe-QkZj8K0IC7vrpLjH1fepOKHvBsbX9RcTlDYjMMPB44t6VbmNvscY_UJEMUo1jWpAszj5REZ-TfHzF-OVa3SC6U66QY_nrRYGQXG0RVl-yHD9jkQGYqO8Gk0CQ5uZpANwP2B8uw8sOJe5B1HutVemLiCXH16QKI7eXYqgbSdYPDc0_jSFkmZjKRHSWipHjf1RhfuXqYL4hDJdOk9SH1DrRXK5-BS4OSqQfeQCBu9ebTFycoMkm7eyTU6ZoV5YLmJiUxlvyf69DPvMot2sWyN6nWngJeI8UAVrs_VWSmblCIQLGMg5qOSc2esmq-f2Vvv_41mrWgsu0aQkl9F9yHH88LtWaDwnMIfEPYn4MRSghhXM1ybWE0EFQLvBZNM0Y7aSMiEVmdDzNgBDDvPJN7TnwjKiVr9swGVJwqUIQ-Raew_TrDMJnQrBBKN26dPGl/download\n",
      "Resolving public.boxcloud.com (public.boxcloud.com)... 107.152.26.200\n",
      "Connecting to public.boxcloud.com (public.boxcloud.com)|107.152.26.200|:443... connected.\n",
      "HTTP request sent, awaiting response... 200 OK\n",
      "Length: 2891 (2.8K) [text/csv]\n",
      "Saving to: ‘Geospatial_Coordinates.csv’\n",
      "\n",
      "100%[======================================>] 2,891       --.-K/s   in 0s      \n",
      "\n",
      "2020-02-18 13:41:41 (278 MB/s) - ‘Geospatial_Coordinates.csv’ saved [2891/2891]\n",
      "\n"
     ]
    },
    {
     "data": {
      "text/html": [
       "<div>\n",
       "<style scoped>\n",
       "    .dataframe tbody tr th:only-of-type {\n",
       "        vertical-align: middle;\n",
       "    }\n",
       "\n",
       "    .dataframe tbody tr th {\n",
       "        vertical-align: top;\n",
       "    }\n",
       "\n",
       "    .dataframe thead th {\n",
       "        text-align: right;\n",
       "    }\n",
       "</style>\n",
       "<table border=\"1\" class=\"dataframe\">\n",
       "  <thead>\n",
       "    <tr style=\"text-align: right;\">\n",
       "      <th></th>\n",
       "      <th>Postal Code</th>\n",
       "      <th>Latitude</th>\n",
       "      <th>Longitude</th>\n",
       "    </tr>\n",
       "  </thead>\n",
       "  <tbody>\n",
       "    <tr>\n",
       "      <th>0</th>\n",
       "      <td>M1B</td>\n",
       "      <td>43.806686</td>\n",
       "      <td>-79.194353</td>\n",
       "    </tr>\n",
       "    <tr>\n",
       "      <th>1</th>\n",
       "      <td>M1C</td>\n",
       "      <td>43.784535</td>\n",
       "      <td>-79.160497</td>\n",
       "    </tr>\n",
       "    <tr>\n",
       "      <th>2</th>\n",
       "      <td>M1E</td>\n",
       "      <td>43.763573</td>\n",
       "      <td>-79.188711</td>\n",
       "    </tr>\n",
       "    <tr>\n",
       "      <th>3</th>\n",
       "      <td>M1G</td>\n",
       "      <td>43.770992</td>\n",
       "      <td>-79.216917</td>\n",
       "    </tr>\n",
       "    <tr>\n",
       "      <th>4</th>\n",
       "      <td>M1H</td>\n",
       "      <td>43.773136</td>\n",
       "      <td>-79.239476</td>\n",
       "    </tr>\n",
       "  </tbody>\n",
       "</table>\n",
       "</div>"
      ],
      "text/plain": [
       "  Postal Code   Latitude  Longitude\n",
       "0         M1B  43.806686 -79.194353\n",
       "1         M1C  43.784535 -79.160497\n",
       "2         M1E  43.763573 -79.188711\n",
       "3         M1G  43.770992 -79.216917\n",
       "4         M1H  43.773136 -79.239476"
      ]
     },
     "execution_count": 30,
     "metadata": {},
     "output_type": "execute_result"
    }
   ],
   "source": [
    "!wget -O Geospatial_Coordinates.csv https://cocl.us/Geospatial_data/Geospatial_Coordinates.csv\n",
    "    \n",
    "loc_df = pd.read_csv('Geospatial_Coordinates.csv')\n",
    "loc_df.head()"
   ]
  },
  {
   "cell_type": "markdown",
   "metadata": {},
   "source": [
    "*Pulled in csv data into pandas dataframe 'loc_df', reported the header for 'loc_df'* "
   ]
  },
  {
   "cell_type": "code",
   "execution_count": 32,
   "metadata": {},
   "outputs": [],
   "source": [
    "loc_df.rename(columns={'Postal Code':'Postalcode'}, inplace=True)"
   ]
  },
  {
   "cell_type": "markdown",
   "metadata": {},
   "source": [
    "*renamed the 'Postal Code' column in loc_df in order to match the Geospatial_Coordinates data to the original df2 data where the column is named 'Postalcode'*"
   ]
  },
  {
   "cell_type": "code",
   "execution_count": 37,
   "metadata": {},
   "outputs": [],
   "source": [
    "df3 = pd.merge(df2, loc_df, on = 'Postalcode', how = 'left')"
   ]
  },
  {
   "cell_type": "markdown",
   "metadata": {},
   "source": [
    "*created a new data frame named 'df3' to hold all columns from df2 ('left' table) and the columns from loc_df (lat/long) which correspond to the same row in df2 based on data in column 'Postalcode'*"
   ]
  },
  {
   "cell_type": "code",
   "execution_count": null,
   "metadata": {},
   "outputs": [],
   "source": [
    "df3"
   ]
  },
  {
   "cell_type": "markdown",
   "metadata": {},
   "source": [
    "*display full new dataframe with location data (df3)*\n"
   ]
  },
  {
   "cell_type": "code",
   "execution_count": null,
   "metadata": {},
   "outputs": [],
   "source": []
  }
 ],
 "metadata": {
  "kernelspec": {
   "display_name": "Python 3.6",
   "language": "python",
   "name": "python3"
  },
  "language_info": {
   "codemirror_mode": {
    "name": "ipython",
    "version": 3
   },
   "file_extension": ".py",
   "mimetype": "text/x-python",
   "name": "python",
   "nbconvert_exporter": "python",
   "pygments_lexer": "ipython3",
   "version": "3.6.9"
  }
 },
 "nbformat": 4,
 "nbformat_minor": 1
}
